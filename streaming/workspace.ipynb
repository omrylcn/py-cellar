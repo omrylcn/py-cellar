{
 "cells": [
  {
   "cell_type": "code",
   "execution_count": null,
   "metadata": {},
   "outputs": [],
   "source": []
  },
  {
   "cell_type": "markdown",
   "metadata": {},
   "source": [
    "### Kafka Producer/Consumer Example"
   ]
  },
  {
   "cell_type": "code",
   "execution_count": null,
   "metadata": {},
   "outputs": [],
   "source": [
    "from kafka import KafkaProducer,KafkaConsumer\n",
    "import time\n",
    "from datetime import datetime\n",
    "import json\n",
    "from tqdm import tqdm"
   ]
  },
  {
   "cell_type": "code",
   "execution_count": null,
   "metadata": {},
   "outputs": [],
   "source": [
    "# Create a producer object\n",
    "producer = KafkaProducer(bootstrap_servers=['localhost:9092'])"
   ]
  },
  {
   "cell_type": "code",
   "execution_count": null,
   "metadata": {},
   "outputs": [],
   "source": [
    "\n",
    "# \n",
    "\n",
    "producer.send(topic='deneme', value=b'test_data')\n",
    "producer.flush()"
   ]
  },
  {
   "cell_type": "code",
   "execution_count": null,
   "metadata": {},
   "outputs": [],
   "source": [
    "TOPIC = 'test'\n",
    "SERVER = 'localhost:9092'\n",
    "\n",
    "producer = KafkaProducer(bootstrap_servers=[SERVER])\n",
    "\n",
    "\n",
    "\n",
    "for i in tqdm(range(10)):\n",
    "    data = {\n",
    "        'message' : f' message id = {i}',\n",
    "        'date': str(datetime.now())\n",
    "    }\n",
    "\n",
    "    data  = json.dumps(data).encode('utf-8')\n",
    "    \n",
    "    producer.send(\n",
    "        topic=TOPIC,\n",
    "        value=data\n",
    "    )\n",
    "\n",
    "\n",
    "    \n",
    "    "
   ]
  },
  {
   "cell_type": "code",
   "execution_count": null,
   "metadata": {},
   "outputs": [],
   "source": [
    "consumer = KafkaConsumer(\n",
    "    TOPIC,\n",
    "    bootstrap_servers=[SERVER],\n",
    "    auto_offset_reset='earliest',\n",
    "    enable_auto_commit=True,\n",
    "\n",
    ")\n",
    "\n",
    "for message in consumer:\n",
    "    print(message.value)"
   ]
  },
  {
   "cell_type": "code",
   "execution_count": null,
   "metadata": {},
   "outputs": [],
   "source": []
  },
  {
   "cell_type": "code",
   "execution_count": null,
   "metadata": {},
   "outputs": [],
   "source": []
  },
  {
   "cell_type": "markdown",
   "metadata": {},
   "source": [
    "### RedPanda"
   ]
  },
  {
   "cell_type": "code",
   "execution_count": null,
   "metadata": {},
   "outputs": [],
   "source": [
    "from confluent_kafka import Producer, Consumer, KafkaError\n",
    "import json\n",
    "from datetime import datetime\n",
    "import time\n",
    "import random\n",
    "from tqdm import tqdm"
   ]
  },
  {
   "cell_type": "code",
   "execution_count": null,
   "metadata": {},
   "outputs": [],
   "source": [
    "bootstrap_servers='localhost:19092'\n",
    "topic = 'test'\n",
    "producer_conf = {\n",
    "            'bootstrap.servers': bootstrap_servers,\n",
    "            'client.id': 'python-producer'\n",
    "        }\n",
    "\n",
    "\n",
    "producer = Producer(producer_conf)"
   ]
  },
  {
   "cell_type": "code",
   "execution_count": null,
   "metadata": {},
   "outputs": [],
   "source": [
    "\n",
    "for i in tqdm(range(10000)):\n",
    "    i = random.randint(1,1000)\n",
    "    data = {\n",
    "                'id': i,\n",
    "                'timestamp': datetime.now().isoformat(),\n",
    "                'message': f'Test message {i}',\n",
    "                'value': i * 100\n",
    "            }\n",
    "            \n",
    "            # JSON'a çevir ve encode et\n",
    "    message = json.dumps(data).encode('utf-8')\n",
    "                \n",
    "    # Mesajı gönder\n",
    "    producer.produce(\n",
    "        topic=topic,\n",
    "        value=message,\n",
    "        key=str(i),\n",
    "    )\n",
    "\n",
    "    time.sleep(0.01)\n"
   ]
  },
  {
   "cell_type": "code",
   "execution_count": null,
   "metadata": {},
   "outputs": [],
   "source": []
  },
  {
   "cell_type": "code",
   "execution_count": null,
   "metadata": {},
   "outputs": [],
   "source": []
  }
 ],
 "metadata": {
  "kernelspec": {
   "display_name": "streaming-dev",
   "language": "python",
   "name": "python3"
  },
  "language_info": {
   "codemirror_mode": {
    "name": "ipython",
    "version": 3
   },
   "file_extension": ".py",
   "mimetype": "text/x-python",
   "name": "python",
   "nbconvert_exporter": "python",
   "pygments_lexer": "ipython3",
   "version": "3.11.5"
  }
 },
 "nbformat": 4,
 "nbformat_minor": 2
}
