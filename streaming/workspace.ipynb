{
 "cells": [
  {
   "cell_type": "code",
   "execution_count": null,
   "metadata": {},
   "outputs": [],
   "source": []
  },
  {
   "cell_type": "markdown",
   "metadata": {},
   "source": [
    "### Kafka Producer/Consumer Example"
   ]
  },
  {
   "cell_type": "code",
   "execution_count": null,
   "metadata": {},
   "outputs": [],
   "source": [
    "from kafka import KafkaProducer,KafkaConsumer\n",
    "import time\n",
    "from datetime import datetime\n",
    "import json\n",
    "from tqdm import tqdm"
   ]
  },
  {
   "cell_type": "code",
   "execution_count": null,
   "metadata": {},
   "outputs": [],
   "source": [
    "# Create a producer object\n",
    "producer = KafkaProducer(bootstrap_servers=['localhost:9092'])"
   ]
  },
  {
   "cell_type": "code",
   "execution_count": null,
   "metadata": {},
   "outputs": [],
   "source": [
    "\n",
    "# \n",
    "\n",
    "producer.send(topic='deneme', value=b'test_data')\n",
    "producer.flush()"
   ]
  },
  {
   "cell_type": "code",
   "execution_count": null,
   "metadata": {},
   "outputs": [],
   "source": [
    "TOPIC = 'test'\n",
    "SERVER = 'localhost:9092'\n",
    "\n",
    "producer = KafkaProducer(bootstrap_servers=[SERVER])\n",
    "\n",
    "\n",
    "\n",
    "for i in tqdm(range(10)):\n",
    "    data = {\n",
    "        'message' : f' message id = {i}',\n",
    "        'date': str(datetime.now())\n",
    "    }\n",
    "\n",
    "    data  = json.dumps(data).encode('utf-8')\n",
    "    \n",
    "    producer.send(\n",
    "        topic=TOPIC,\n",
    "        value=data\n",
    "    )\n",
    "\n",
    "\n",
    "    \n",
    "    "
   ]
  },
  {
   "cell_type": "code",
   "execution_count": null,
   "metadata": {},
   "outputs": [],
   "source": [
    "consumer = KafkaConsumer(\n",
    "    TOPIC,\n",
    "    bootstrap_servers=[SERVER],\n",
    "    auto_offset_reset='earliest',\n",
    "    enable_auto_commit=True,\n",
    "\n",
    ")\n",
    "\n",
    "for message in consumer:\n",
    "    print(message.value)"
   ]
  },
  {
   "cell_type": "code",
   "execution_count": null,
   "metadata": {},
   "outputs": [],
   "source": []
  },
  {
   "cell_type": "code",
   "execution_count": null,
   "metadata": {},
   "outputs": [],
   "source": []
  },
  {
   "cell_type": "markdown",
   "metadata": {},
   "source": [
    "### RedPanda"
   ]
  },
  {
   "cell_type": "code",
   "execution_count": null,
   "metadata": {},
   "outputs": [],
   "source": [
    "from confluent_kafka import Producer, Consumer, KafkaError\n",
    "import json\n",
    "from datetime import datetime\n",
    "import time\n",
    "import random\n",
    "from tqdm import tqdm"
   ]
  },
  {
   "cell_type": "code",
   "execution_count": null,
   "metadata": {},
   "outputs": [],
   "source": [
    "bootstrap_servers='localhost:19092'\n",
    "topic = 'test'\n",
    "producer_conf = {\n",
    "            'bootstrap.servers': bootstrap_servers,\n",
    "            'client.id': 'python-producer'\n",
    "        }\n",
    "\n",
    "\n",
    "producer = Producer(producer_conf)"
   ]
  },
  {
   "cell_type": "code",
   "execution_count": null,
   "metadata": {},
   "outputs": [],
   "source": [
    "\n",
    "for i in tqdm(range(10000)):\n",
    "    i = random.randint(1,1000)\n",
    "    data = {\n",
    "                'id': i,\n",
    "                'timestamp': datetime.now().isoformat(),\n",
    "                'message': f'Test message {i}',\n",
    "                'value': i * 100\n",
    "            }\n",
    "            \n",
    "            # JSON'a çevir ve encode et\n",
    "    message = json.dumps(data).encode('utf-8')\n",
    "                \n",
    "    # Mesajı gönder\n",
    "    producer.produce(\n",
    "        topic=topic,\n",
    "        value=message,\n",
    "        key=str(i),\n",
    "    )\n",
    "\n",
    "    time.sleep(0.01)\n"
   ]
  },
  {
   "cell_type": "code",
   "execution_count": null,
   "metadata": {},
   "outputs": [],
   "source": []
  },
  {
   "cell_type": "markdown",
   "metadata": {},
   "source": [
    "### RabbitMQ"
   ]
  },
  {
   "cell_type": "code",
   "execution_count": 37,
   "metadata": {},
   "outputs": [],
   "source": [
    "import pika\n",
    "from datetime import datetime\n",
    "from random import randint\n",
    "import time\n",
    "from tqdm import tqdm"
   ]
  },
  {
   "cell_type": "code",
   "execution_count": 32,
   "metadata": {},
   "outputs": [],
   "source": [
    "connection = pika.BlockingConnection(\n",
    "    pika.ConnectionParameters(host='localhost')\n",
    ")"
   ]
  },
  {
   "cell_type": "code",
   "execution_count": 33,
   "metadata": {},
   "outputs": [],
   "source": [
    "channel = connection.channel()"
   ]
  },
  {
   "cell_type": "code",
   "execution_count": 34,
   "metadata": {},
   "outputs": [
    {
     "data": {
      "text/plain": [
       "<METHOD(['channel_number=1', 'frame_type=1', \"method=<Queue.DeclareOk(['consumer_count=0', 'message_count=0', 'queue=hello'])>\"])>"
      ]
     },
     "execution_count": 34,
     "metadata": {},
     "output_type": "execute_result"
    }
   ],
   "source": [
    "channel.queue_declare(queue='hello')"
   ]
  },
  {
   "cell_type": "code",
   "execution_count": null,
   "metadata": {},
   "outputs": [],
   "source": [
    "channel.de"
   ]
  },
  {
   "cell_type": "code",
   "execution_count": 35,
   "metadata": {},
   "outputs": [
    {
     "name": "stdout",
     "output_type": "stream",
     "text": [
      " [x] Sent 'Hello World!'\n"
     ]
    }
   ],
   "source": [
    "channel.basic_publish(exchange=\"\", routing_key=\"hello\", body=\"Hello World!\")\n",
    "print(\" [x] Sent 'Hello World!'\")\n",
    "\n",
    "#connection.close()"
   ]
  },
  {
   "cell_type": "code",
   "execution_count": 41,
   "metadata": {},
   "outputs": [
    {
     "name": "stderr",
     "output_type": "stream",
     "text": [
      "100%|██████████| 200/200 [00:20<00:00,  9.91it/s]\n"
     ]
    }
   ],
   "source": [
    "for i in tqdm(range(200)):\n",
    "    body = f\"{[12]*2000}\"\n",
    "    channel.basic_publish(exchange=\"\", routing_key=\"hello\", body=f\"{body} _ {datetime.now()}\")\n",
    "   # print(\" [x] Sent 'Hello World!'\")\n",
    "    time.sleep(0.1)"
   ]
  },
  {
   "cell_type": "code",
   "execution_count": null,
   "metadata": {},
   "outputs": [],
   "source": [
    "# Import the pika library\n",
    "import pika\n",
    "\n",
    "# Establish a connection to the RabbitMQ server\n",
    "connection = pika.BlockingConnection(pika.ConnectionParameters('localhost'))\n",
    "channel = connection.channel()\n",
    "\n",
    "# Declare a queue to receive the message from\n",
    "channel.queue_declare(queue='hello')\n",
    "\n",
    "# Define a callback function to process incoming messages\n",
    "def callback(ch, method, properties, body):\n",
    "    print(\" [x] Received %r\" % body)\n",
    "\n",
    "# Tell RabbitMQ to call the callback function when a message arrives\n",
    "channel.basic_consume(queue='hello',\n",
    "                      on_message_callback=callback,\n",
    "                      auto_ack=True)\n",
    "\n",
    "# Start consuming messages\n",
    "print(' [*] Waiting for messages. To exit press CTRL+C')\n",
    "channel.start_consuming()"
   ]
  },
  {
   "cell_type": "markdown",
   "metadata": {},
   "source": [
    "### Quixstreams"
   ]
  },
  {
   "cell_type": "code",
   "execution_count": 1,
   "metadata": {},
   "outputs": [],
   "source": [
    "from quixstreams import Application"
   ]
  },
  {
   "cell_type": "code",
   "execution_count": 23,
   "metadata": {},
   "outputs": [],
   "source": [
    "app = Application(\n",
    "    broker_address=\"localhost:9092\",\n",
    "    loglevel=\"DEBUG\",\n",
    "    consumer_group=\"test-group\",\n",
    "    #auto_offset_reset=\"earliest\",\n",
    ")"
   ]
  },
  {
   "cell_type": "code",
   "execution_count": 24,
   "metadata": {},
   "outputs": [
    {
     "name": "stderr",
     "output_type": "stream",
     "text": [
      "[2024-12-08 22:18:46,757] [INFO] [quixstreams] : Topics required for this application: \n",
      "[2024-12-08 22:18:46,758] [DEBUG] [quixstreams] : No topics provided for creation...skipping!\n",
      "[2024-12-08 22:18:46,758] [INFO] [quixstreams] : Validating Kafka topics exist and are configured correctly...\n",
      "[2024-12-08 22:18:46,762] [INFO] [quixstreams] : Kafka topics validation complete\n",
      "[2024-12-08 22:18:46,771] [DEBUG] [quixstreams] : Assigning topic partition \"test[0]\"\n"
     ]
    },
    {
     "name": "stdout",
     "output_type": "stream",
     "text": [
      "No message received by consumer\n",
      "No message received by consumer\n",
      "166 - b'test-value-115'\n",
      "No message received by consumer\n",
      "No message received by consumer\n",
      "No message received by consumer\n",
      "No message received by consumer\n",
      "No message received by consumer\n",
      "No message received by consumer\n"
     ]
    },
    {
     "name": "stderr",
     "output_type": "stream",
     "text": [
      "[2024-12-08 22:18:56,119] [DEBUG] [quixstreams] : Closing Kafka consumer\n",
      "[2024-12-08 22:18:56,120] [DEBUG] [quixstreams] : Revoking topic partition \"test[0]\"\n",
      "[2024-12-08 22:18:56,124] [DEBUG] [quixstreams] : Kafka consumer closed\n"
     ]
    },
    {
     "ename": "KeyboardInterrupt",
     "evalue": "",
     "output_type": "error",
     "traceback": [
      "\u001b[0;31m---------------------------------------------------------------------------\u001b[0m",
      "\u001b[0;31mKeyboardInterrupt\u001b[0m                         Traceback (most recent call last)",
      "Cell \u001b[0;32mIn[24], line 5\u001b[0m\n\u001b[1;32m      2\u001b[0m consumer\u001b[38;5;241m.\u001b[39msubscribe(topics\u001b[38;5;241m=\u001b[39m[\u001b[38;5;124m\"\u001b[39m\u001b[38;5;124mtest\u001b[39m\u001b[38;5;124m\"\u001b[39m])\n\u001b[1;32m      4\u001b[0m \u001b[38;5;28;01mwhile\u001b[39;00m \u001b[38;5;28;01mTrue\u001b[39;00m:\n\u001b[0;32m----> 5\u001b[0m     msg \u001b[38;5;241m=\u001b[39m \u001b[43mconsumer\u001b[49m\u001b[38;5;241;43m.\u001b[39;49m\u001b[43mpoll\u001b[49m\u001b[43m(\u001b[49m\u001b[43mtimeout\u001b[49m\u001b[38;5;241;43m=\u001b[39;49m\u001b[38;5;241;43m1.0\u001b[39;49m\u001b[43m)\u001b[49m\n\u001b[1;32m      6\u001b[0m     \u001b[38;5;28;01mif\u001b[39;00m msg \u001b[38;5;129;01mis\u001b[39;00m \u001b[38;5;28;01mNone\u001b[39;00m:\n\u001b[1;32m      7\u001b[0m         \u001b[38;5;28mprint\u001b[39m(\u001b[38;5;124m\"\u001b[39m\u001b[38;5;124mNo message received by consumer\u001b[39m\u001b[38;5;124m\"\u001b[39m)\n",
      "File \u001b[0;32m~/miniconda3/envs/mls/lib/python3.11/site-packages/quixstreams/kafka/consumer.py:149\u001b[0m, in \u001b[0;36mBaseConsumer.poll\u001b[0;34m(self, timeout)\u001b[0m\n\u001b[1;32m    132\u001b[0m \u001b[38;5;28;01mdef\u001b[39;00m \u001b[38;5;21mpoll\u001b[39m(\u001b[38;5;28mself\u001b[39m, timeout: Optional[\u001b[38;5;28mfloat\u001b[39m] \u001b[38;5;241m=\u001b[39m \u001b[38;5;28;01mNone\u001b[39;00m) \u001b[38;5;241m-\u001b[39m\u001b[38;5;241m>\u001b[39m Optional[Message]:\n\u001b[1;32m    133\u001b[0m \u001b[38;5;250m    \u001b[39m\u001b[38;5;124;03m\"\"\"\u001b[39;00m\n\u001b[1;32m    134\u001b[0m \u001b[38;5;124;03m    Consumes a single message, calls callbacks and returns events.\u001b[39;00m\n\u001b[1;32m    135\u001b[0m \n\u001b[0;32m   (...)\u001b[0m\n\u001b[1;32m    147\u001b[0m \u001b[38;5;124;03m    :raises RuntimeError: if called on a closed consumer\u001b[39;00m\n\u001b[1;32m    148\u001b[0m \u001b[38;5;124;03m    \"\"\"\u001b[39;00m\n\u001b[0;32m--> 149\u001b[0m     \u001b[38;5;28;01mreturn\u001b[39;00m \u001b[38;5;28;43mself\u001b[39;49m\u001b[38;5;241;43m.\u001b[39;49m\u001b[43m_consumer\u001b[49m\u001b[38;5;241;43m.\u001b[39;49m\u001b[43mpoll\u001b[49m\u001b[43m(\u001b[49m\u001b[43mtimeout\u001b[49m\u001b[38;5;241;43m=\u001b[39;49m\u001b[43mtimeout\u001b[49m\u001b[43m \u001b[49m\u001b[38;5;28;43;01mif\u001b[39;49;00m\u001b[43m \u001b[49m\u001b[43mtimeout\u001b[49m\u001b[43m \u001b[49m\u001b[38;5;129;43;01mis\u001b[39;49;00m\u001b[43m \u001b[49m\u001b[38;5;129;43;01mnot\u001b[39;49;00m\u001b[43m \u001b[49m\u001b[38;5;28;43;01mNone\u001b[39;49;00m\u001b[43m \u001b[49m\u001b[38;5;28;43;01melse\u001b[39;49;00m\u001b[43m \u001b[49m\u001b[38;5;241;43m-\u001b[39;49m\u001b[38;5;241;43m1\u001b[39;49m\u001b[43m)\u001b[49m\n",
      "\u001b[0;31mKeyboardInterrupt\u001b[0m: "
     ]
    }
   ],
   "source": [
    "\n",
    "with app.get_consumer() as consumer:\n",
    "    consumer.subscribe(topics=[\"test\"])\n",
    "\n",
    "    while True:\n",
    "        msg = consumer.poll(timeout=1.0)\n",
    "        if msg is None:\n",
    "            print(\"No message received by consumer\")\n",
    "        \n",
    "        else:\n",
    "            \n",
    "            message = f\"{msg.offset()} - {msg.value()}\"\n",
    "            print(message)\n",
    "        \n"
   ]
  },
  {
   "cell_type": "code",
   "execution_count": null,
   "metadata": {},
   "outputs": [
    {
     "data": {
      "text/plain": [
       "b'Subscribed topic not available: test: Broker: Unknown topic or partition'"
      ]
     },
     "execution_count": 10,
     "metadata": {},
     "output_type": "execute_result"
    }
   ],
   "source": []
  },
  {
   "cell_type": "code",
   "execution_count": 8,
   "metadata": {},
   "outputs": [
    {
     "data": {
      "text/plain": [
       "'<cimpl.Message object at 0x73e6f3f175c0>'"
      ]
     },
     "execution_count": 8,
     "metadata": {},
     "output_type": "execute_result"
    }
   ],
   "source": [
    "str(msg)"
   ]
  }
 ],
 "metadata": {
  "kernelspec": {
   "display_name": "mls",
   "language": "python",
   "name": "python3"
  },
  "language_info": {
   "codemirror_mode": {
    "name": "ipython",
    "version": 3
   },
   "file_extension": ".py",
   "mimetype": "text/x-python",
   "name": "python",
   "nbconvert_exporter": "python",
   "pygments_lexer": "ipython3",
   "version": "3.11.5"
  }
 },
 "nbformat": 4,
 "nbformat_minor": 2
}
